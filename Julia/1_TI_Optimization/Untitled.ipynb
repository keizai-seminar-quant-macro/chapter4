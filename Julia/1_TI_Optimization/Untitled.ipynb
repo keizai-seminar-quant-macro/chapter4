{
 "cells": [
  {
   "cell_type": "code",
   "execution_count": 12,
   "metadata": {},
   "outputs": [
    {
     "name": "stdout",
     "output_type": "stream",
     "text": [
      "[-7.77555e-17, 1.0]\n"
     ]
    }
   ],
   "source": [
    "using NLsolve\n",
    "\n",
    "function f(x)\n",
    "    F[1] = (x[1]+3)*(x[2]^3-7)+18\n",
    "    F[2] = sin(x[2]*exp(x[1])-1)\n",
    "    \n",
    "    return F\n",
    "end\n",
    "\n",
    "#function j!(J, x)\n",
    "#    J[1, 1] = x[2]^3-7\n",
    "#    J[1, 2] = 3*x[2]^2*(x[1]+3)\n",
    "#    u = exp(x[1])*cos(x[2]*exp(x[1])-1)\n",
    "#    J[2, 1] = x[2]*u\n",
    "#    J[2, 2] = u\n",
    "#end\n",
    "\n",
    "sol = nlsolve(f!, [ 0.1; 1.2])\n",
    "println(sol.zero)"
   ]
  },
  {
   "cell_type": "code",
   "execution_count": 10,
   "metadata": {},
   "outputs": [
    {
     "data": {
      "text/plain": [
       "11-element Array{Float64,1}:\n",
       "  0.0\n",
       "  1.0\n",
       "  2.0\n",
       "  3.0\n",
       "  4.0\n",
       "  5.0\n",
       "  6.0\n",
       "  7.0\n",
       "  8.0\n",
       "  9.0\n",
       " 10.0"
      ]
     },
     "execution_count": 10,
     "metadata": {},
     "output_type": "execute_result"
    }
   ],
   "source": [
    "N = 11\n",
    "#temp = collect([0:1:N-1])\n",
    "temp = collect(LinRange(0, N-1, N))"
   ]
  },
  {
   "cell_type": "code",
   "execution_count": null,
   "metadata": {},
   "outputs": [],
   "source": []
  }
 ],
 "metadata": {
  "kernelspec": {
   "display_name": "Julia 1.0.3",
   "language": "julia",
   "name": "julia-1.0"
  },
  "language_info": {
   "file_extension": ".jl",
   "mimetype": "application/julia",
   "name": "julia",
   "version": "1.0.3"
  }
 },
 "nbformat": 4,
 "nbformat_minor": 2
}
