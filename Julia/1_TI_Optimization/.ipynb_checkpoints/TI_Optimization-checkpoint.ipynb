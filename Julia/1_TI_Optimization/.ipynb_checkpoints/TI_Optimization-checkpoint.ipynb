{
 "cells": [
  {
   "cell_type": "code",
   "execution_count": 1,
   "metadata": {},
   "outputs": [],
   "source": [
    "using LinearAlgebra\n",
    "using Dierckx\n",
    "#using Roots\n",
    "using NLsolve\n",
    "using Plots\n",
    "using DelimitedFiles\n",
    "#using LaTeXStrings"
   ]
  },
  {
   "cell_type": "code",
   "execution_count": 2,
   "metadata": {},
   "outputs": [],
   "source": [
    "struct Model{TI<:Integer, TF<:AbstractFloat, TV<:Vector}\n",
    "    β::TF       # 割引因子\n",
    "    γ::TF       # 相対的危険回避度\n",
    "    α::TF       # 資本分配率\n",
    "    δ::TF       # 固定資本減耗      \n",
    "    # 定常状態の値\n",
    "    ykss::TF\n",
    "    kss::TF\n",
    "    yss::TF\n",
    "    css::TF\n",
    "    nk::TI      # 資本グリッドの個数\n",
    "    kmax::TF    # 資本グリッドの最大値\n",
    "    kmin::TF    # 資本グリッドの最小値 (0にすると生産が出来なくなる)\n",
    "    kgrid::TV   # 資本グリッド\n",
    "    maxiter::TI # 繰り返し計算の最大値\n",
    "    tol::TF     # 許容誤差\n",
    "end"
   ]
  },
  {
   "cell_type": "code",
   "execution_count": 3,
   "metadata": {},
   "outputs": [
    {
     "data": {
      "text/plain": [
       "EulerEq (generic function with 1 method)"
      ]
     },
     "execution_count": 3,
     "metadata": {},
     "output_type": "execute_result"
    }
   ],
   "source": [
    "function EulerEq(x,m,capital,cnext)\n",
    "# cを与えたときのオイラー方程式の残差を返す関数\n",
    "    \n",
    "    cons = x[1]\n",
    "    wealth = capital^m.α + (1-m.δ)*capital\n",
    "    \n",
    "    kprime = wealth - cons\n",
    "    # トリック: k'は正の値しか取らない\n",
    "    kprime = max(m.kgrid[1],kprime)\n",
    "    \n",
    "    # オイラー方程式\n",
    "    res = mu_CRRA(cons,m.γ) - m.β*mu_CRRA(cnext(kprime),m.γ)*(m.α*kprime.^(m.α-1) + (1-m.δ))\n",
    "\n",
    "    return res \n",
    "end"
   ]
  },
  {
   "cell_type": "code",
   "execution_count": 4,
   "metadata": {},
   "outputs": [
    {
     "data": {
      "text/plain": [
       "CRRA (generic function with 1 method)"
      ]
     },
     "execution_count": 4,
     "metadata": {},
     "output_type": "execute_result"
    }
   ],
   "source": [
    "function CRRA(cons::Real, gamma)\n",
    "    \"\"\"\n",
    "    Compute CRRA utility function\n",
    "    \n",
    "    # Arguments\n",
    "\n",
    "    - `cons::Real`: consumption value\n",
    "    - `gamma::Real`: relative risk aversion\n",
    "    \n",
    "    # Return \n",
    "    - `util::Real`: utility value \n",
    "    \"\"\"\n",
    "    if gamma != 1.0\n",
    "        util = cons^(1.0 - gamma) / (1.0 - gamma)\n",
    "    else\n",
    "        util = log(cons) \n",
    "    end\n",
    "    return util\n",
    "end"
   ]
  },
  {
   "cell_type": "code",
   "execution_count": 5,
   "metadata": {},
   "outputs": [
    {
     "data": {
      "text/plain": [
       "mu_CRRA (generic function with 1 method)"
      ]
     },
     "execution_count": 5,
     "metadata": {},
     "output_type": "execute_result"
    }
   ],
   "source": [
    "function mu_CRRA(cons::Real, gamma)\n",
    "    \"\"\"\n",
    "    Compute marginal utility of CRRA-type function\n",
    "    \n",
    "    # Arguments \n",
    "    - \"cons::VecOrMat\": consumption value\n",
    "    - \"gamma::Real\": relative risk aversion\n",
    "    \n",
    "    # Return\n",
    "    - \"mu::Real\": marginal utility \n",
    "    \"\"\"\n",
    "    \n",
    "    mu = cons^-gamma\n",
    "    return mu\n",
    "end"
   ]
  },
  {
   "cell_type": "code",
   "execution_count": 6,
   "metadata": {},
   "outputs": [
    {
     "ename": "LoadError",
     "evalue": "syntax: invalid character literal",
     "output_type": "error",
     "traceback": [
      "syntax: invalid character literal",
      ""
     ]
    }
   ],
   "source": [
    "function nti(m::Model)\n",
    "    \n",
    "    # *** 収束の基準 ***\n",
    "    it = 1 # ループ・カウンター\n",
    "    dif2 = 1.0 # 政策関数の繰り返し誤差\n",
    "    tolfun = 1e-10 # NLsolveのオプション(最適化の許容誤差)\n",
    "\n",
    "    println(\" \")\n",
    "    println(\"-+- Solve a neoclassical growth model with time iteration -+-\")\n",
    "    println(\" \")    \n",
    "    \n",
    "    ## STEP 1(b): 政策関数の初期値を当て推量    \n",
    "    # 解析解 (for k'=g(k))\n",
    "    p_true = m.β*m.α*(m.kgrid.^m.α)\n",
    "    \n",
    "    # 政策関数の初期化\n",
    "    #cfcn0 = m.kgrid\n",
    "    cfcn0 = m.css/m.kss*m.kgrid\n",
    "    cfcn1 = zeros(m.nk)\n",
    "        \n",
    "    # 繰り返し誤差を保存する変数を設定 \n",
    "    dif = zeros(2,m.maxiter)\n",
    "    \n",
    "    ## STEP 4: 価値関数を繰り返し計算\n",
    "    while (it < m.maxiter && dif2 > m.tol)\n",
    "        \n",
    "        # 次期の政策関数を補間\n",
    "        # 次期の政策関数を線形補間: m.nk=21のときは政策関数の形がおかしい???\n",
    "        cnext = Spline1D(m.kgrid,cfcn0,k=1,bc=\"extrapolate\") #線形補間\n",
    "        # 次期の価値関数をスプライン補間\n",
    "        #cnext = Spline1D(m.kgrid,cfcn0,k=3,bc=\"extrapolate\") #スプライン補間\n",
    "        \n",
    "        for i = 1:m.nk\n",
    "            \n",
    "            capital = m.kgrid[i]\n",
    "            wealth = capital.^m.α + (1-m.δ).*capital\n",
    "            \n",
    "            # Juliaの最適化関数(NLsolve or Roots)を使って各グリッド上の政策関数の値を探す\n",
    "            EulerEq!(x) = EulerEq(x,m,capital,cnext)\n",
    "            # 最適化の初期値は古い政策関数の値\n",
    "            # for Roots\n",
    "#            cons = find_zero(EulerEq!,cfcn0[i])            \n",
    "#            cfcn1[i] = cons\n",
    "            # for NLsolve\n",
    "            sol = nlsolve(EulerEq!,[cfcn0[i]],ftol=tolfun)\n",
    "            cfcn1[i] = sol.zero[1]\n",
    "            # グリッドごとに最適化の結果を確認\n",
    "            #disp([cons capital wealth kprime]);\n",
    "            #pause\n",
    "\n",
    "        end\n",
    "        \n",
    "        # 繰り返し計算誤差を確認\n",
    "        dif2 = maximum(abs.(cfcn1-cfcn0)) # 政策関数の繰り返し計算誤差(図示のため)\n",
    "        \n",
    "        println([it dif2])\n",
    "        \n",
    "        # 収束途中の繰り返し計算誤差を保存\n",
    "        dif[2,it] = dif2\n",
    "        \n",
    "        # 政策関数をアップデート\n",
    "        cfcn0 = copy(cfcn1)\n",
    "        \n",
    "        it = it + 1\n",
    "        \n",
    "    end\n",
    "        \n",
    "    return cfcn0, dif \n",
    "end"
   ]
  },
  {
   "cell_type": "code",
   "execution_count": 7,
   "metadata": {},
   "outputs": [
    {
     "data": {
      "text/plain": [
       "Model{Int64,Float64,Array{Float64,1}}(0.96, 1.0, 0.4, 1.0, 2.6041666666666665, 0.20287041017208587, 0.5283083598231403, 0.32543794965105444, 21, 0.5, 0.05, [0.05, 0.0725, 0.095, 0.1175, 0.14, 0.1625, 0.185, 0.2075, 0.23, 0.2525  …  0.2975, 0.32, 0.3425, 0.365, 0.3875, 0.41, 0.4325, 0.455, 0.4775, 0.5], 1000, 1.0e-5)"
      ]
     },
     "execution_count": 7,
     "metadata": {},
     "output_type": "execute_result"
    }
   ],
   "source": [
    "# カリブレーション\n",
    "β = 0.96 # 割引因子\n",
    "γ = 1.0  # 相対的危険回避度(異時点間の代替の弾力性の逆数)\n",
    "α = 0.40 # 資本分配率\n",
    "δ = 1.0  # 固定資本減耗(delta=1.0のときは解析解が存在)\n",
    "\n",
    "# 定常状態の値\n",
    "ykss = (1/β-1+δ)/α\n",
    "kss = ykss^(1/(α-1))\n",
    "yss = ykss*kss\n",
    "css = yss-δ*kss\n",
    "\n",
    "kmax = 0.5  # 資本グリッドの最大値\n",
    "kmin = 0.05 # 資本グリッドの最小値 (0にすると生産が出来なくなる)\n",
    "#========================#\n",
    "\n",
    "## STEP 1(a): グリッド生成\n",
    "nk = 21     # グリッドの数\n",
    "kgrid = collect(LinRange(kmin,kmax,nk))\n",
    "\n",
    "maxiter = 1000 # 繰り返し回数の最大値\n",
    "tol = 1.0e-5   # 許容誤差(STEP 2)\n",
    "\n",
    "m = Model(β,γ,α,δ,ykss,kss,yss,css,nk,kmax,kmin,kgrid,maxiter,tol)"
   ]
  },
  {
   "cell_type": "code",
   "execution_count": 8,
   "metadata": {},
   "outputs": [
    {
     "ename": "UndefVarError",
     "evalue": "UndefVarError: nti not defined",
     "output_type": "error",
     "traceback": [
      "UndefVarError: nti not defined",
      "",
      "Stacktrace:",
      " [1] top-level scope at util.jl:156",
      " [2] top-level scope at In[8]:1"
     ]
    }
   ],
   "source": [
    "@time cfcn0, dif = nti(m)"
   ]
  },
  {
   "cell_type": "code",
   "execution_count": 9,
   "metadata": {},
   "outputs": [
    {
     "ename": "UndefVarError",
     "evalue": "UndefVarError: cfcn0 not defined",
     "output_type": "error",
     "traceback": [
      "UndefVarError: cfcn0 not defined",
      "",
      "Stacktrace:",
      " [1] top-level scope at In[9]:1"
     ]
    }
   ],
   "source": [
    "## 最終的な政策関数が得られてから貯蓄関数を計算\n",
    "pfcn0 = m.kgrid.^(m.α) + (1-m.δ).*m.kgrid - cfcn0;"
   ]
  },
  {
   "cell_type": "code",
   "execution_count": 10,
   "metadata": {},
   "outputs": [],
   "source": [
    "## 解析的解\n",
    "p_true = m.β*m.α*(m.kgrid.^m.α);"
   ]
  },
  {
   "cell_type": "code",
   "execution_count": 11,
   "metadata": {},
   "outputs": [
    {
     "ename": "UndefVarError",
     "evalue": "UndefVarError: cfcn0 not defined",
     "output_type": "error",
     "traceback": [
      "UndefVarError: cfcn0 not defined",
      "",
      "Stacktrace:",
      " [1] top-level scope at In[11]:4"
     ]
    }
   ],
   "source": [
    "## オイラー方程式から誤差を測定\n",
    "# 元のグリッドではオイラー方程式の誤差はゼロになるため、グリッドを細かくとる\n",
    "kgrid_err = collect(LinRange(kmin,kmax,(nk-1)*10+1))\n",
    "cons_interp = Spline1D(m.kgrid,cfcn0,k=1,bc=\"extrapolate\")\n",
    "cons = cons_interp(kgrid_err)\n",
    "LHS  = mu_CRRA.(cons,m.γ)\n",
    "\n",
    "kp   = kgrid_err.^m.α + (1-m.δ)*kgrid_err - cons\n",
    "cnext = cons_interp(kp)\n",
    "rent = m.α.*kp.^(m.α-1.0) .- m.δ\n",
    "RHS  = m.β.*(1 .+ rent).*mu_CRRA.(cnext,m.γ)\n",
    "\n",
    "err  = RHS./LHS.-1.0;"
   ]
  },
  {
   "cell_type": "code",
   "execution_count": 12,
   "metadata": {},
   "outputs": [
    {
     "ename": "UndefVarError",
     "evalue": "UndefVarError: pfcn0 not defined",
     "output_type": "error",
     "traceback": [
      "UndefVarError: pfcn0 not defined",
      "",
      "Stacktrace:",
      " [1] top-level scope at In[12]:1"
     ]
    }
   ],
   "source": [
    "plot(m.kgrid,pfcn0)\n",
    "plot!(m.kgrid,p_true)\n",
    "plot!(m.kgrid,m.kgrid)"
   ]
  },
  {
   "cell_type": "code",
   "execution_count": 13,
   "metadata": {},
   "outputs": [],
   "source": [
    "err2 = readdlm(\"err_ndp.csv\")\n",
    "err2 = vec(err2);"
   ]
  },
  {
   "cell_type": "code",
   "execution_count": 14,
   "metadata": {},
   "outputs": [
    {
     "ename": "UndefVarError",
     "evalue": "UndefVarError: err not defined",
     "output_type": "error",
     "traceback": [
      "UndefVarError: err not defined",
      "",
      "Stacktrace:",
      " [1] top-level scope at In[14]:1"
     ]
    }
   ],
   "source": [
    "plot(kgrid_err,abs.(err))\n",
    "plot!(kgrid_err,abs.(err2))"
   ]
  },
  {
   "cell_type": "code",
   "execution_count": null,
   "metadata": {},
   "outputs": [],
   "source": []
  }
 ],
 "metadata": {
  "@webio": {
   "lastCommId": null,
   "lastKernelId": null
  },
  "kernelspec": {
   "display_name": "Julia 1.0.3",
   "language": "julia",
   "name": "julia-1.0"
  },
  "language_info": {
   "file_extension": ".jl",
   "mimetype": "application/julia",
   "name": "julia",
   "version": "1.0.3"
  }
 },
 "nbformat": 4,
 "nbformat_minor": 2
}
