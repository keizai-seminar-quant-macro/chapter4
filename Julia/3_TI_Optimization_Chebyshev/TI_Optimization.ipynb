{
 "cells": [
  {
   "cell_type": "code",
   "execution_count": 1,
   "metadata": {},
   "outputs": [],
   "source": [
    "using LinearAlgebra\n",
    "using Statistics # for mean\n",
    "# using Roots\n",
    "using NLsolve"
   ]
  },
  {
   "cell_type": "code",
   "execution_count": 2,
   "metadata": {},
   "outputs": [
    {
     "data": {
      "text/plain": [
       "polybas (generic function with 1 method)"
      ]
     },
     "execution_count": 2,
     "metadata": {},
     "output_type": "execute_result"
    }
   ],
   "source": [
    "function polybas(kmin,kmax,Np,kgrid)\n",
    "    \n",
    "    # Np: 多項式の次数-1\n",
    "    # Ng: グリッドの数\n",
    "    Ng = size(kgrid,1)\n",
    "    x = (2/(kmax-kmin))*(kgrid .- kmin) .- 1\n",
    "    \n",
    "    # 基底関数の行列(NgxNp)を再帰的に求める\n",
    "    T = zeros(Ng,Np)\n",
    "    T0 = ones(Ng)\n",
    "    T1 = x\n",
    "    T2 = 2*x.*T1 - T0\n",
    "    T[:,1] = T1\n",
    "    T[:,2] = T2\n",
    "    \n",
    "    for i=3:Np-1\n",
    "        T[:,i] = 2*x.*T[:,i-1] - T[:,i-2] \n",
    "    end\n",
    "    \n",
    "    T = [T0 T[:,1:(Np-1)]]\n",
    "    \n",
    "    return T\n",
    "    \n",
    "end"
   ]
  },
  {
   "cell_type": "code",
   "execution_count": 3,
   "metadata": {},
   "outputs": [
    {
     "data": {
      "text/plain": [
       "polygrid (generic function with 1 method)"
      ]
     },
     "execution_count": 3,
     "metadata": {},
     "output_type": "execute_result"
    }
   ],
   "source": [
    "function polygrid(kmin,kmax,N)\n",
    "    \n",
    "    temp = collect(LinRange(0,N-1,N))\n",
    "    x = -cos.((pi/(N-1))*temp) # チェビシェフ極値点\n",
    "    #temp = collect(LinRange(1,N-1,N-1))\n",
    "    #x = [0; -cos((pi/2/(N-1))*(2*temp .- 1))] # チェビシェフゼロ点\n",
    "    \n",
    "    # xからkに変換\n",
    "    k = 0.5*(kmax-kmin)*(x .+ 1) .+ kmin\n",
    "   \n",
    "    return k\n",
    "    \n",
    "end"
   ]
  },
  {
   "cell_type": "code",
   "execution_count": 4,
   "metadata": {},
   "outputs": [],
   "source": [
    "struct Model{TI<:Integer, TF<:AbstractFloat, TV<:Vector}\n",
    "    β::TF       # 割引因子\n",
    "    γ::TF       # 相対的危険回避度\n",
    "    α::TF       # 資本分配率\n",
    "    δ::TF       # 固定資本減耗      \n",
    "    # 定常状態の値\n",
    "    ykss::TF\n",
    "    kss::TF\n",
    "    yss::TF\n",
    "    css::TF\n",
    "    nk::TI      # 資本グリッドの個数\n",
    "    kmax::TF    # 資本グリッドの最大値\n",
    "    kmin::TF    # 資本グリッドの最小値 (0にすると生産が出来なくなる)\n",
    "    kgrid::TV   # 資本グリッド\n",
    "    T::Array{Float64,2}\n",
    "    invT::Array{Float64,2}\n",
    "    maxiter::TI # 繰り返し計算の最大値\n",
    "    tol::TF     # 許容誤差\n",
    "end"
   ]
  },
  {
   "cell_type": "code",
   "execution_count": 5,
   "metadata": {},
   "outputs": [
    {
     "data": {
      "text/plain": [
       "EulerEq_cheb (generic function with 1 method)"
      ]
     },
     "execution_count": 5,
     "metadata": {},
     "output_type": "execute_result"
    }
   ],
   "source": [
    "function EulerEq_cheb(x,m,capital,theta)\n",
    "# cを与えたときのオイラー方程式の残差を返す関数\n",
    "    \n",
    "    cons = x[1]\n",
    "    wealth = capital^m.α + (1-m.δ)*capital\n",
    "    \n",
    "    kprime = wealth - cons\n",
    "    # トリック: k'は正の値しか取らない\n",
    "    kprime = max(m.kgrid[1],kprime)\n",
    "\n",
    "    T = polybas(m.kmin,m.kmax,m.nk,[kprime]) # the type of [kprime] is Array{Float64,1}\n",
    "    temp = T*theta\n",
    "    cnext = temp[1]\n",
    "    # オイラー方程式\n",
    "    res = mu_CRRA(cons,m.γ) - m.β*mu_CRRA(cnext,m.γ)*(m.α*kprime.^(m.α-1) + (1-m.δ))\n",
    "\n",
    "    return res \n",
    "end"
   ]
  },
  {
   "cell_type": "code",
   "execution_count": 6,
   "metadata": {},
   "outputs": [
    {
     "data": {
      "text/plain": [
       "CRRA (generic function with 1 method)"
      ]
     },
     "execution_count": 6,
     "metadata": {},
     "output_type": "execute_result"
    }
   ],
   "source": [
    "function CRRA(cons::Real, gamma)\n",
    "    \"\"\"\n",
    "    Compute CRRA utility function\n",
    "    \n",
    "    # Arguments\n",
    "\n",
    "    - `cons::Real`: consumption value\n",
    "    - `gamma::Real`: relative risk aversion\n",
    "    \n",
    "    # Return \n",
    "    - `util::Real`: utility value \n",
    "    \"\"\"\n",
    "    if gamma != 1.0\n",
    "        util = cons^(1.0 - gamma) / (1.0 - gamma)\n",
    "    else\n",
    "        util = log(cons) \n",
    "    end\n",
    "    return util\n",
    "end"
   ]
  },
  {
   "cell_type": "code",
   "execution_count": 7,
   "metadata": {},
   "outputs": [
    {
     "data": {
      "text/plain": [
       "mu_CRRA (generic function with 1 method)"
      ]
     },
     "execution_count": 7,
     "metadata": {},
     "output_type": "execute_result"
    }
   ],
   "source": [
    "function mu_CRRA(cons::Real, gamma)\n",
    "    \"\"\"\n",
    "    Compute marginal utility of CRRA-type function\n",
    "    \n",
    "    # Arguments \n",
    "    - \"cons::VecOrMat\": consumption value\n",
    "    - \"gamma::Real\": relative risk aversion\n",
    "    \n",
    "    # Return\n",
    "    - \"mu::Real\": marginal utility \n",
    "    \"\"\"\n",
    "    \n",
    "    mu = cons^-gamma\n",
    "    return mu\n",
    "end"
   ]
  },
  {
   "cell_type": "code",
   "execution_count": 8,
   "metadata": {},
   "outputs": [
    {
     "data": {
      "text/plain": [
       "nti_cheb (generic function with 1 method)"
      ]
     },
     "execution_count": 8,
     "metadata": {},
     "output_type": "execute_result"
    }
   ],
   "source": [
    "function nti_cheb(m::Model)\n",
    "    \n",
    "    # *** 収束の基準 ***\n",
    "    it = 1         # ループ・カウンター\n",
    "    dif2 = 1.0     # 政策関数の繰り返し誤差\n",
    "    tolfun = 1e-10 # NLsolveのオプション(最適化の許容誤差)\n",
    "\n",
    "#     println(\" \")\n",
    "#     println(\"-+- Solve a neoclassical growth model with time iteration -+-\")\n",
    "#     println(\" \")    \n",
    "    \n",
    "    ## STEP 1(b): 政策関数の初期値を当て推量    \n",
    "    # 解析解 (for k'=g(k))\n",
    "    p_true = m.β*m.α*(m.kgrid.^m.α)\n",
    "    \n",
    "    # 政策関数の初期化\n",
    "    cfcn0 = m.kgrid\n",
    "    #cfcn0 = m.css/m.kss*m.kgrid\n",
    "    cfcn1 = zeros(m.nk)\n",
    "        \n",
    "    # 繰り返し誤差を保存する変数を設定 \n",
    "    dif = zeros(2,m.maxiter)\n",
    "    \n",
    "    ## STEP 4: 価値関数を繰り返し計算\n",
    "    while (it < m.maxiter && dif2 > m.tol)\n",
    "        \n",
    "        # 次期の政策関数を補間\n",
    "        # 次期の政策関数を線形補間: m.nk=21のときは政策関数の形がおかしい???\n",
    "        #cnext = Spline1D(m.kgrid,cfcn0,k=1,bc=\"extrapolate\") #線形補間\n",
    "        # 次期の価値関数をスプライン補間\n",
    "        #cnext = Spline1D(m.kgrid,cfcn0,k=3,bc=\"extrapolate\") #スプライン補間\n",
    "        theta = m.invT*cfcn0\n",
    "#         cfcn1 = zeros(m.nk)\n",
    "        \n",
    "        for i = 1:m.nk\n",
    "            \n",
    "            capital = m.kgrid[i]\n",
    "            wealth = capital.^m.α + (1-m.δ).*capital\n",
    "            \n",
    "            # Juliaの最適化関数(NLsolve or Roots)を使って各グリッド上の政策関数の値を探す\n",
    "            EulerEq_cheb!(x) = EulerEq_cheb(x,m,capital,theta) # x is a vector (for NLsolve)\n",
    "#             EulerEq_cheb!(cons) = EulerEq_cheb([cons],m,capital,theta) # cons is a scalar (for Roots)\n",
    "            # 最適化の初期値は古い政策関数の値\n",
    "            # for Roots\n",
    "#             cons = find_zero(EulerEq_cheb!,cfcn0[i])            \n",
    "#             cfcn1[i] = cons\n",
    "            # for NLsolve\n",
    "            sol = nlsolve(EulerEq_cheb!,[cfcn0[i]],ftol=tolfun)\n",
    "            # 最適化の初期値は定常状態の値: これでは解けない\n",
    "#             sol = nlsolve(EulerEq_cheb!,[m.css],ftol=tolfun)\n",
    "            cfcn1[i] = sol.zero[1]\n",
    "            # グリッドごとに最適化の結果を確認\n",
    "            #disp([cons capital wealth kprime]);\n",
    "            #pause\n",
    "\n",
    "        end\n",
    "        \n",
    "        # 繰り返し計算誤差を確認\n",
    "        dif2 = maximum(abs.(cfcn1-cfcn0)) # 政策関数の繰り返し計算誤差(図示のため)\n",
    "        \n",
    "#         println([it dif2])\n",
    "        \n",
    "        # 収束途中の繰り返し計算誤差を保存\n",
    "        dif[2,it] = dif2\n",
    "        \n",
    "        # 政策関数をアップデート\n",
    "        cfcn0 = copy(cfcn1)\n",
    "        \n",
    "        it = it + 1\n",
    "        \n",
    "    end\n",
    "        \n",
    "    return cfcn0, dif \n",
    "end"
   ]
  },
  {
   "cell_type": "code",
   "execution_count": 9,
   "metadata": {},
   "outputs": [
    {
     "data": {
      "text/plain": [
       "calcerr (generic function with 1 method)"
      ]
     },
     "execution_count": 9,
     "metadata": {},
     "output_type": "execute_result"
    }
   ],
   "source": [
    "function calcerr(m,cfcn0)\n",
    "## オイラー方程式から誤差を測定\n",
    "    # 元のグリッドではオイラー方程式の誤差はゼロになるため、グリッドを細かくとる\n",
    "    theta = m.invT*cfcn0\n",
    "    kgrid_err = collect(LinRange(m.kmin,m.kmax,(m.nk-1)*10+1))\n",
    "    T = polybas(m.kmin,m.kmax,m.nk,kgrid_err)\n",
    "    cons = T*theta\n",
    "    #cons_interp = Spline1D(m.kgrid,cfcn0,k=1,bc=\"extrapolate\")\n",
    "    #cons = cons_interp(kgrid_err)\n",
    "    LHS  = mu_CRRA.(cons,m.γ)\n",
    "\n",
    "    kp   = kgrid_err.^m.α + (1-m.δ)*kgrid_err - cons\n",
    "    T = polybas(m.kmin,m.kmax,m.nk,kp)\n",
    "    cnext = T*theta\n",
    "    #cnext = cons_interp(kp)\n",
    "    rent = m.α.*kp.^(m.α-1.0) .- m.δ\n",
    "    RHS  = m.β.*(1 .+ rent).*mu_CRRA.(cnext,m.γ)\n",
    "\n",
    "    err  = RHS./LHS.-1.0\n",
    "    \n",
    "    return err\n",
    "    \n",
    "end"
   ]
  },
  {
   "cell_type": "code",
   "execution_count": 10,
   "metadata": {},
   "outputs": [],
   "source": [
    "# カリブレーション\n",
    "β = 0.96 # 割引因子\n",
    "γ = 1.0  # 相対的危険回避度(異時点間の代替の弾力性の逆数)\n",
    "α = 0.40 # 資本分配率\n",
    "δ = 1.0  # 固定資本減耗(delta=1.0のときは解析解が存在)\n",
    "\n",
    "# 定常状態の値\n",
    "ykss = (1/β-1+δ)/α\n",
    "kss = ykss^(1/(α-1))\n",
    "yss = ykss*kss\n",
    "css = yss-δ*kss\n",
    "\n",
    "# kmax = 0.5  # 資本グリッドの最大値\n",
    "# kmin = 0.05 # 資本グリッドの最小値 (0にすると生産が出来なくなる)\n",
    "kmax = 1.2*kss # 資本グリッドの最大値\n",
    "kmin = 0.8*kss # 資本グリッドの最小値 (0にすると生産が出来なくなる)\n",
    "\n",
    "maxiter = 1000 # 繰り返し回数の最大値\n",
    "tol = 1.0e-8;  # 許容誤差(STEP 2)"
   ]
  },
  {
   "cell_type": "code",
   "execution_count": 17,
   "metadata": {},
   "outputs": [
    {
     "name": "stdout",
     "output_type": "stream",
     "text": [
      "[-3.49855 -3.23498; -5.79966 -5.48986; -7.67968 -7.6768]\n",
      "[4.00402 1.0; 0.00145554 0.00036352; 0.00441488 0.00110261]\n"
     ]
    }
   ],
   "source": [
    "norms = zeros(3,2)\n",
    "times = zeros(3,2)\n",
    "\n",
    "nkvec = [3 5 9]';\n",
    "\n",
    "for i=1:3\n",
    "\n",
    "    ## STEP 1(a): グリッド生成\n",
    "    nk = nkvec[i]     # グリッドの数\n",
    "    kgrid = polygrid(kmin,kmax,nk)\n",
    "    T = polybas(kmin,kmax,nk,kgrid)\n",
    "    invT = inv(T)\n",
    "    m = Model(β,γ,α,δ,ykss,kss,yss,css,nk,kmax,kmin,kgrid,T,invT,maxiter,tol)\n",
    "\n",
    "    # time iteration\n",
    "#     @time cfcn0, dif = nti(m)\n",
    "    times[i,1] = @elapsed cfcn0, dif = nti_cheb(m) # different from @time???\n",
    "#     tic();\n",
    "#     cfcn0, dif = nti(m) # different from @time???\n",
    "#     times[i,1] = toc();\n",
    "\n",
    "    err = calcerr(m,cfcn0)\n",
    "    norms[i,:] = log10.([mean(abs.(err)) maximum(abs.(err))])\n",
    "    \n",
    "end\n",
    "\n",
    "times[:,2] = times[:,1]./times[1,1]\n",
    "\n",
    "println(norms)\n",
    "println(times)"
   ]
  },
  {
   "cell_type": "code",
   "execution_count": 12,
   "metadata": {},
   "outputs": [],
   "source": [
    "# ## 最終的な政策関数が得られてから貯蓄関数を計算\n",
    "# pfcn0 = m.kgrid.^(m.α) + (1-m.δ).*m.kgrid - cfcn0;"
   ]
  },
  {
   "cell_type": "code",
   "execution_count": 13,
   "metadata": {},
   "outputs": [],
   "source": [
    "# ## 解析的解\n",
    "# p_true = m.β*m.α*(m.kgrid.^m.α);"
   ]
  },
  {
   "cell_type": "code",
   "execution_count": 14,
   "metadata": {},
   "outputs": [],
   "source": [
    "# plot(m.kgrid,pfcn0)\n",
    "# plot!(m.kgrid,p_true)\n",
    "# plot!(m.kgrid,m.kgrid)"
   ]
  },
  {
   "cell_type": "code",
   "execution_count": 15,
   "metadata": {},
   "outputs": [],
   "source": [
    "#err2 = readdlm(\"err_ndp.csv\")\n",
    "#err2 = vec(err2);"
   ]
  },
  {
   "cell_type": "code",
   "execution_count": 16,
   "metadata": {},
   "outputs": [],
   "source": [
    "# plot(kgrid_err,abs.(err))\n",
    "#plot!(kgrid_err,abs.(err2))"
   ]
  },
  {
   "cell_type": "code",
   "execution_count": null,
   "metadata": {},
   "outputs": [],
   "source": []
  }
 ],
 "metadata": {
  "@webio": {
   "lastCommId": null,
   "lastKernelId": null
  },
  "kernelspec": {
   "display_name": "Julia 1.0.3",
   "language": "julia",
   "name": "julia-1.0"
  },
  "language_info": {
   "file_extension": ".jl",
   "mimetype": "application/julia",
   "name": "julia",
   "version": "1.0.3"
  }
 },
 "nbformat": 4,
 "nbformat_minor": 2
}
