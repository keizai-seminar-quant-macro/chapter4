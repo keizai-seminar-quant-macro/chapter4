{
 "cells": [
  {
   "cell_type": "markdown",
   "metadata": {},
   "source": [
    "### 新古典派成長モデルの時間反復法による数値解法\n",
    "代表的個人の問題は以下のように書ける\n",
    "\\begin{align*}\n",
    " && \\underset{{c_{t},k_{t+1}}}{\\max} \\sum_{t=0}^{\\infty} \\beta^t u(c_t) \\\\\n",
    " \\text{subject to} && c_t + k_{t+1} = f(k_t), \\\\\n",
    " && k_0 \\text{ is given.}\n",
    "\\end{align*}\n",
    "ここで、$u(c)=\\frac{c^{1-\\sigma}}{1-\\sigma}, f(k)=k^{\\alpha}+(1-\\delta)k$"
   ]
  },
  {
   "cell_type": "code",
   "execution_count": 1,
   "metadata": {},
   "outputs": [],
   "source": [
    "using LinearAlgebra\n",
    "using Statistics # for mean\n",
    "# using Roots\n",
    "using NLsolve\n",
    "using Printf"
   ]
  },
  {
   "cell_type": "code",
   "execution_count": 2,
   "metadata": {},
   "outputs": [],
   "source": [
    "struct Model{TI<:Integer, TF<:AbstractFloat, TV<:Vector}\n",
    "    β::TF       # 割引因子\n",
    "    γ::TF       # 相対的危険回避度\n",
    "    α::TF       # 資本分配率\n",
    "    δ::TF       # 固定資本減耗      \n",
    "    # 定常状態の値\n",
    "    ykss::TF\n",
    "    kss::TF\n",
    "    yss::TF\n",
    "    css::TF\n",
    "    nk::TI      # 資本グリッドの個数\n",
    "    kmax::TF    # 資本グリッドの最大値\n",
    "    kmin::TF    # 資本グリッドの最小値 (0にすると生産が出来なくなる)\n",
    "    kgrid::TV   # 資本グリッド\n",
    "    T::Array{Float64,2}\n",
    "    invT::Array{Float64,2}\n",
    "    maxiter::TI # 繰り返し計算の最大値\n",
    "    tol::TF     # 許容誤差\n",
    "end"
   ]
  },
  {
   "cell_type": "markdown",
   "metadata": {},
   "source": [
    "### チェビシェフ多項式\n",
    "基底関数$T_i(x):[-1,1]\\rightarrow[-1,1]$を組み合わせた$N-1$次の多項式を用いて、$N$個の点の間を補間する\n",
    "\\begin{equation*}\n",
    "g(x;\\theta) = \\theta_0 + \\theta_1 T_1(x) + \\theta_2 T_2(x) + \\cdots + \\theta_{N-1} T_{N-1}(x)\n",
    "\\end{equation*}\n",
    "ここで、\n",
    "\\begin{align*}\n",
    "T_0(x) = 1, \\\\\n",
    "T_1(x) = x, \\\\\n",
    "T_2(x) = 2x^2-1, \\\\\n",
    "\\vdots \\\\\n",
    "T_{N-1}(x) = 2xT_{N-2}(x) - T_{N-3}(x)\n",
    "\\end{align*}\n"
   ]
  },
  {
   "cell_type": "markdown",
   "metadata": {},
   "source": [
    "ここでは、政策関数$c=h(k)$をチェビシェフ多項式で近似する\n",
    "\n",
    "\\begin{equation*}\n",
    "g(k;\\theta) = \\theta_0 + \\theta_1 T_1(\\varphi(k)) + \\theta_2 T_2(\\varphi(k)) + \\cdots + \\theta_{N-1} T_{N-1}(\\varphi(k))\n",
    "\\end{equation*}\n"
   ]
  },
  {
   "cell_type": "code",
   "execution_count": 3,
   "metadata": {},
   "outputs": [
    {
     "data": {
      "text/plain": [
       "polybas (generic function with 1 method)"
      ]
     },
     "execution_count": 3,
     "metadata": {},
     "output_type": "execute_result"
    }
   ],
   "source": [
    "function polybas(kmin,kmax,Np,kgrid)\n",
    "    \n",
    "    # Np: 多項式の次数-1\n",
    "    # Ng: グリッドの数\n",
    "    Ng = size(kgrid,1)\n",
    "    x = (2/(kmax-kmin))*(kgrid .- kmin) .- 1\n",
    "    \n",
    "    # 基底関数の行列(NgxNp)を再帰的に求める\n",
    "    T = zeros(Ng,Np)\n",
    "    T0 = ones(Ng)\n",
    "    T1 = x\n",
    "    T2 = 2*x.*T1 - T0\n",
    "    T[:,1] = T1\n",
    "    T[:,2] = T2\n",
    "    \n",
    "    for i=3:Np-1\n",
    "        T[:,i] = 2*x.*T[:,i-1] - T[:,i-2] \n",
    "    end\n",
    "    \n",
    "    T = [T0 T[:,1:(Np-1)]]\n",
    "    \n",
    "    return T\n",
    "    \n",
    "end"
   ]
  },
  {
   "cell_type": "markdown",
   "metadata": {},
   "source": [
    "### 評価点\n",
    "#### チェビシェフゼロ点\n",
    "\\begin{align*}\n",
    "x_0 = 0, \\\\\n",
    "x_j = \\cos \\left( \\frac{(2j-1)\\pi}{2(N-1)} \\right) \\text{ for } j=1,\\dots,N-1\n",
    "\\end{align*}\n",
    "#### チェビシェフ極値点\n",
    "\\begin{equation*}\n",
    "x_j = \\cos \\left( \\frac{j\\pi}{N-1} \\right) \\text{ for } j=0,1,\\dots,N-1\n",
    "\\end{equation*}\n",
    "\n",
    "ここで、より一般的な関数では、$k$の値は$[k_1,k_N]$の間にあるとすると、$k$から$x\\in[-1,1]$への変換は\n",
    "\n",
    "\\begin{equation*}\n",
    "x=\\varphi(k)=\\frac{2(k-k_1)}{k_N-k_1}-1\n",
    "\\end{equation*}\n",
    "\n",
    "この変換の逆は以下で与えられる\n",
    "\n",
    "\\begin{equation*}\n",
    "k=\\varphi^{-1}(x)=k_1+0.5(1+x)(k_N-k_1)\n",
    "\\end{equation*}"
   ]
  },
  {
   "cell_type": "code",
   "execution_count": 4,
   "metadata": {},
   "outputs": [
    {
     "data": {
      "text/plain": [
       "polygrid (generic function with 1 method)"
      ]
     },
     "execution_count": 4,
     "metadata": {},
     "output_type": "execute_result"
    }
   ],
   "source": [
    "function polygrid(kmin,kmax,N)\n",
    "    \n",
    "    temp = collect(LinRange(0,N-1,N))\n",
    "    x = -cos.((pi/(N-1))*temp) # チェビシェフ極値点\n",
    "    #temp = collect(LinRange(1,N-1,N-1))\n",
    "    #x = [0; -cos((pi/2/(N-1))*(2*temp .- 1))] # チェビシェフゼロ点\n",
    "    \n",
    "    # xからkに変換\n",
    "    k = 0.5*(kmax-kmin)*(x .+ 1) .+ kmin\n",
    "   \n",
    "    return k\n",
    "    \n",
    "end"
   ]
  },
  {
   "cell_type": "markdown",
   "metadata": {},
   "source": [
    "### オイラー方程式\n",
    "オイラー方程式は以下で与えられる\n",
    "\\begin{equation*}\n",
    "u^{\\prime}(c_{t}) = \\beta u^{\\prime}(c_{t+1})f^{\\prime}(k_{t+1})\n",
    "\\end{equation*}\n",
    "\n",
    "ここで、$u^{\\prime}(c)=c^{-\\sigma}, f^{\\prime}(k)=\\alpha k^{\\alpha-1}+(1-\\delta)$"
   ]
  },
  {
   "cell_type": "code",
   "execution_count": 5,
   "metadata": {},
   "outputs": [
    {
     "data": {
      "text/plain": [
       "EulerEq_cheb (generic function with 1 method)"
      ]
     },
     "execution_count": 5,
     "metadata": {},
     "output_type": "execute_result"
    }
   ],
   "source": [
    "function EulerEq_cheb(x,m,capital,theta)\n",
    "# cを与えたときのオイラー方程式の残差を返す関数\n",
    "    \n",
    "    cons = x[1]\n",
    "    wealth = capital^m.α + (1-m.δ)*capital\n",
    "    \n",
    "    kprime = wealth - cons\n",
    "    # トリック: k'は正の値しか取らない\n",
    "    kprime = max(m.kgrid[1],kprime)\n",
    "\n",
    "    T = polybas(m.kmin,m.kmax,m.nk,[kprime]) # the type of [kprime] is Array{Float64,1}\n",
    "    temp = T*theta\n",
    "    cnext = temp[1]\n",
    "    # オイラー方程式\n",
    "    res = mu_CRRA(cons,m.γ) - m.β*mu_CRRA(cnext,m.γ)*(m.α*kprime.^(m.α-1) + (1-m.δ))\n",
    "\n",
    "    return res \n",
    "end"
   ]
  },
  {
   "cell_type": "code",
   "execution_count": 6,
   "metadata": {},
   "outputs": [
    {
     "data": {
      "text/plain": [
       "CRRA (generic function with 1 method)"
      ]
     },
     "execution_count": 6,
     "metadata": {},
     "output_type": "execute_result"
    }
   ],
   "source": [
    "function CRRA(cons::Real, gamma)\n",
    "    \"\"\"\n",
    "    Compute CRRA utility function\n",
    "    \n",
    "    # Arguments\n",
    "\n",
    "    - `cons::Real`: consumption value\n",
    "    - `gamma::Real`: relative risk aversion\n",
    "    \n",
    "    # Return \n",
    "    - `util::Real`: utility value \n",
    "    \"\"\"\n",
    "    if gamma != 1.0\n",
    "        util = cons^(1.0 - gamma) / (1.0 - gamma)\n",
    "    else\n",
    "        util = log(cons) \n",
    "    end\n",
    "    return util\n",
    "end"
   ]
  },
  {
   "cell_type": "code",
   "execution_count": 7,
   "metadata": {},
   "outputs": [
    {
     "data": {
      "text/plain": [
       "mu_CRRA (generic function with 1 method)"
      ]
     },
     "execution_count": 7,
     "metadata": {},
     "output_type": "execute_result"
    }
   ],
   "source": [
    "function mu_CRRA(cons::Real, gamma)\n",
    "    \"\"\"\n",
    "    Compute marginal utility of CRRA-type function\n",
    "    \n",
    "    # Arguments \n",
    "    - \"cons::VecOrMat\": consumption value\n",
    "    - \"gamma::Real\": relative risk aversion\n",
    "    \n",
    "    # Return\n",
    "    - \"mu::Real\": marginal utility \n",
    "    \"\"\"\n",
    "    \n",
    "    mu = cons^-gamma\n",
    "    return mu\n",
    "end"
   ]
  },
  {
   "cell_type": "markdown",
   "metadata": {},
   "source": [
    "### アルゴリズム\n",
    "#### 1. グリッド生成\n",
    "a. 状態空間を有限個のグリッド$\\{k_1,k_2,\\dots,k_N\\}$に区切る\n",
    "\n",
    "b. グリッド上の政策関数の初期値$c=h(k_i)$を当て推量する\n",
    "\n",
    "#### 2. 収束の基準\n",
    "収束の基準になるパラメータ$\\varepsilon$を与える\n",
    "\n",
    "#### 3. 近似・評価\n",
    "グリッドの点$k_i$上にない政策関数の値については、チェビシェフ多項式を使って補間する\n",
    "\n",
    "\\begin{equation*}\n",
    "g(k;\\theta) = \\theta_0 + \\theta_1 T_1(\\varphi(k)) + \\theta_2 T_2(\\varphi(k)) + \\cdots + \\theta_{N-1} T_{N-1}(\\varphi(k))\n",
    "\\end{equation*}\n",
    "\n",
    "をパラメータのベクトル$\\mathbf{\\theta}$を使って近似したときの、$k$上での政策関数の値とする\n",
    "\n",
    "#### 4. 最適化\n",
    "古い政策関数$h^{(n-1)}(k)$を所与として、各$k_i$について、\n",
    "\\begin{equation*}\n",
    "u^{\\prime}(c) = \\beta u^{\\prime} \\left( h^{(n-1)}(f(k_i)-c;\\mathbf{\\theta}) \\right) f^{\\prime}(f(k_i)-c)\n",
    "\\end{equation*}\n",
    "を$c$について解く\n",
    "\n",
    "このステップで、新しい政策関数$c=h^{(n)}(k)$を得る\n",
    "\n",
    "#### 5. 収束の確認\n",
    "全ての$k_i$について、$\\| h^{(n)}(k_i)-h^{(n-1)}(k_i) \\| < \\varepsilon$であればストップ\n",
    "\n",
    "そうでなければ、$h^{(n)}(k)$を$h^{(n-1)}(k)$に代入して、ステップ3とステップ4を繰り返す"
   ]
  },
  {
   "cell_type": "code",
   "execution_count": 8,
   "metadata": {},
   "outputs": [
    {
     "data": {
      "text/plain": [
       "nti_cheb (generic function with 1 method)"
      ]
     },
     "execution_count": 8,
     "metadata": {},
     "output_type": "execute_result"
    }
   ],
   "source": [
    "function nti_cheb(m::Model)\n",
    "    \n",
    "    # *** 収束の基準 ***\n",
    "    it = 1         # ループ・カウンター\n",
    "    dif2 = 1.0     # 政策関数の繰り返し誤差\n",
    "    tolfun = 1e-10 # NLsolveのオプション(最適化の許容誤差)\n",
    "\n",
    "#     println(\" \")\n",
    "#     println(\"-+- Solve a neoclassical growth model with time iteration -+-\")\n",
    "#     println(\" \")    \n",
    "    \n",
    "    ## STEP 1(b): 政策関数の初期値を当て推量    \n",
    "    cfcn0 = m.kgrid\n",
    "    #cfcn0 = m.css/m.kss*m.kgrid\n",
    "    cfcn1 = zeros(m.nk)\n",
    "    \n",
    "    ## STEP 4: 価値関数を繰り返し計算\n",
    "    while (it < m.maxiter && dif2 > m.tol)\n",
    "        \n",
    "        # 次期の政策関数を補間\n",
    "        # 多項式のフィット\n",
    "        theta = m.invT*cfcn0\n",
    "        \n",
    "        for i = 1:m.nk\n",
    "            \n",
    "            capital = m.kgrid[i]\n",
    "            wealth = capital.^m.α + (1-m.δ).*capital\n",
    "            \n",
    "            # Juliaの最適化関数(NLsolve or Roots)を使って各グリッド上の政策関数の値を探す\n",
    "            EulerEq_cheb!(x) = EulerEq_cheb(x,m,capital,theta) # x is a vector (for NLsolve)\n",
    "#             EulerEq_cheb!(cons) = EulerEq_cheb([cons],m,capital,theta) # cons is a scalar (for Roots)\n",
    "            # 最適化の初期値は古い政策関数の値\n",
    "            # for Roots\n",
    "#             cons = find_zero(EulerEq_cheb!,cfcn0[i])            \n",
    "#             cfcn1[i] = cons\n",
    "            # for NLsolve\n",
    "            sol = nlsolve(EulerEq_cheb!,[cfcn0[i]],ftol=tolfun)\n",
    "            cfcn1[i] = sol.zero[1]\n",
    "            # グリッドごとに最適化の結果を確認\n",
    "            #disp([cons capital wealth kprime]);\n",
    "            #pause\n",
    "\n",
    "        end\n",
    "        \n",
    "        # 繰り返し計算誤差を確認\n",
    "        dif2 = maximum(abs.(cfcn1-cfcn0)) # 政策関数の繰り返し計算誤差(図示のため)\n",
    "        \n",
    "#         println([it dif2])\n",
    "        \n",
    "        # 政策関数をアップデート\n",
    "        cfcn0 = copy(cfcn1)\n",
    "        \n",
    "        it = it + 1\n",
    "        \n",
    "    end\n",
    "        \n",
    "    return cfcn0\n",
    "end"
   ]
  },
  {
   "cell_type": "markdown",
   "metadata": {},
   "source": [
    "数値解により得られた政策関数$c=h(k;\\mathbf{\\theta})$をオイラー方程式に代入して、誤差\n",
    "\\begin{equation*}\n",
    "\\frac{\\beta u^{\\prime} \\left( h(\\underbrace{f(k)-h(k;\\mathbf{\\theta})}_{k^{\\prime}};\\mathbf{\\theta}) \\right) f^{\\prime}(\\underbrace{f(k)-h(k;\\mathbf{\\theta})}_{k^{\\prime}})\n",
    "}{u^{\\prime}(h(k;\\mathbf{\\theta}))}-1\n",
    "\\end{equation*}\n",
    "を計算できる。近似に用いたグリッド上では計算誤差はほぼゼロに等しい"
   ]
  },
  {
   "cell_type": "code",
   "execution_count": 9,
   "metadata": {},
   "outputs": [
    {
     "data": {
      "text/plain": [
       "calcerr (generic function with 1 method)"
      ]
     },
     "execution_count": 9,
     "metadata": {},
     "output_type": "execute_result"
    }
   ],
   "source": [
    "function calcerr(m,cfcn0)\n",
    "## オイラー方程式から誤差を測定\n",
    "    # 元のグリッドではオイラー方程式の誤差はゼロになるため、グリッドを細かくとる\n",
    "    kgrid_err = collect(LinRange(m.kmin,m.kmax,(m.nk-1)*10+1))\n",
    "    # 多項式のフィット\n",
    "    theta = m.invT*cfcn0\n",
    "    # 各kにおける基底関数の計算\n",
    "    T = polybas(m.kmin,m.kmax,m.nk,kgrid_err)\n",
    "    # c=h(k;b)の値を近似\n",
    "    cons = T*theta\n",
    "    LHS  = mu_CRRA.(cons,m.γ)\n",
    "\n",
    "    # k'=f(k)-c\n",
    "    kp   = kgrid_err.^m.α + (1-m.δ)*kgrid_err - cons\n",
    "    # 各k'における基底関数の計算\n",
    "    T = polybas(m.kmin,m.kmax,m.nk,kp)\n",
    "    # c'=h(k';b)の値を近似\n",
    "    cnext = T*theta\n",
    "    # f'(k')\n",
    "    rent = m.α.*kp.^(m.α-1.0) .- m.δ\n",
    "    RHS  = m.β.*(1 .+ rent).*mu_CRRA.(cnext,m.γ)\n",
    "\n",
    "    err  = RHS./LHS.-1.0\n",
    "    \n",
    "    return err\n",
    "    \n",
    "end"
   ]
  },
  {
   "cell_type": "markdown",
   "metadata": {},
   "source": [
    "### メインファイル"
   ]
  },
  {
   "cell_type": "code",
   "execution_count": 10,
   "metadata": {},
   "outputs": [],
   "source": [
    "# カリブレーション\n",
    "β = 0.96 # 割引因子\n",
    "γ = 1.0  # 相対的危険回避度(異時点間の代替の弾力性の逆数)\n",
    "α = 0.40 # 資本分配率\n",
    "δ = 1.0  # 固定資本減耗(delta=1.0のときは解析解が存在)\n",
    "\n",
    "# 定常状態の値\n",
    "ykss = (1/β-1+δ)/α\n",
    "kss = ykss^(1/(α-1))\n",
    "yss = ykss*kss\n",
    "css = yss-δ*kss\n",
    "\n",
    "# kmax = 0.5  # 資本グリッドの最大値\n",
    "# kmin = 0.05 # 資本グリッドの最小値 (0にすると生産が出来なくなる)\n",
    "kmax = 1.2*kss # 資本グリッドの最大値\n",
    "kmin = 0.8*kss # 資本グリッドの最小値 (0にすると生産が出来なくなる)\n",
    "\n",
    "maxiter = 1000 # 繰り返し回数の最大値\n",
    "tol = 1.0e-8;  # 許容誤差(STEP 2)"
   ]
  },
  {
   "attachments": {},
   "cell_type": "markdown",
   "metadata": {},
   "source": [
    "多項式のフィット\n",
    "\n",
    "\\begin{equation*}\n",
    "\\theta=T(x)^{-1}g(x)\n",
    "\\end{equation*}\n",
    "\n",
    "において、行列$T(x)$は一度評価点と基底関数を定めるとその後は固定される。逆行列の計算には時間がかかるため、多項式近似を時間反復法に適用するときは、逆行列の計算をアルゴリズムの初期にあらかじめ行うとよい"
   ]
  },
  {
   "cell_type": "code",
   "execution_count": 13,
   "metadata": {},
   "outputs": [],
   "source": [
    "norms = zeros(3,2)\n",
    "times = zeros(3,2)\n",
    "\n",
    "nkvec = [3 5 9]';\n",
    "\n",
    "for i=1:3\n",
    "\n",
    "    ## STEP 1(a): グリッド生成\n",
    "    nk = nkvec[i] # グリッドの数\n",
    "    kgrid = polygrid(kmin,kmax,nk) # チェビシェフ評価点\n",
    "    T = polybas(kmin,kmax,nk,kgrid) # 基底関数\n",
    "    invT = inv(T) # 逆行列をあらかじめ計算しておく\n",
    "    \n",
    "    # 構造体にパラメータを格納\n",
    "    m = Model(β,γ,α,δ,ykss,kss,yss,css,nk,kmax,kmin,kgrid,T,invT,maxiter,tol)\n",
    "\n",
    "    # time iteration\n",
    "    times[i,1] = @elapsed cfcn0 = nti_cheb(m)\n",
    "    \n",
    "    # 計算誤差\n",
    "    err = calcerr(m,cfcn0)\n",
    "    # 平均値、最大値のlog10\n",
    "    norms[i,:] = log10.([mean(abs.(err)) maximum(abs.(err))])\n",
    "    \n",
    "end\n",
    "\n",
    "# 相対的な計算時間\n",
    "times[:,2] = times[:,1]./times[1,1];"
   ]
  },
  {
   "cell_type": "code",
   "execution_count": 14,
   "metadata": {},
   "outputs": [
    {
     "name": "stdout",
     "output_type": "stream",
     "text": [
      "[-3.49855 -3.23498; -5.79966 -5.48986; -7.67968 -7.6768]\n",
      "[0.00245278 1.0; 0.00604298 2.46372; 0.0143035 5.83155]\n"
     ]
    }
   ],
   "source": [
    "# print tables\n",
    "println(norms)\n",
    "println(times)"
   ]
  },
  {
   "cell_type": "code",
   "execution_count": null,
   "metadata": {},
   "outputs": [],
   "source": []
  }
 ],
 "metadata": {
  "@webio": {
   "lastCommId": null,
   "lastKernelId": null
  },
  "kernelspec": {
   "display_name": "Julia 1.1.0",
   "language": "julia",
   "name": "julia-1.1"
  },
  "language_info": {
   "file_extension": ".jl",
   "mimetype": "application/julia",
   "name": "julia",
   "version": "1.1.0"
  }
 },
 "nbformat": 4,
 "nbformat_minor": 2
}
