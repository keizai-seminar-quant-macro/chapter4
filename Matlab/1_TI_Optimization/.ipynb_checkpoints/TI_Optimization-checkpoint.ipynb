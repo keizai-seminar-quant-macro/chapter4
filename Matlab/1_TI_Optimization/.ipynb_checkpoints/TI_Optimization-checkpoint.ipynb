{
 "cells": [
  {
   "cell_type": "code",
   "execution_count": 2,
   "metadata": {},
   "outputs": [
    {
     "name": "stdout",
     "output_type": "stream",
     "text": [
      "Created file '/home/takeki/Documents/keizai-seminar/chapter4/Matlab/1_TI_Optimization/EulerEq.m'.\n"
     ]
    }
   ],
   "source": [
    "%%file EulerEq.m\n",
    "function  res = EulerEq(cons,m,capital,cfcn)\n",
    "% cを与えたときのオイラー方程式の残差を返す関数\n",
    "\n",
    "wealth = capital.^m.alpha + (1.-m.delta).*capital;\n",
    "\n",
    "kprime = wealth - cons;\n",
    "% トリック: k'は正の値しか取らない\n",
    "kprime = max(m.kgrid(1),kprime);\n",
    "\n",
    "% 次期の政策関数を線形補間\n",
    "%cnext = interp1(m.kgrid,cfcn,kprime,'linear','extrap');\n",
    "% 次期の価値関数をスプライン補間\n",
    "cnext = interp1(m.kgrid,cfcn,kprime,'spline');\n",
    "\n",
    "%% オイラー方程式\n",
    "res = (1/cons) - m.beta*(1/cnext)*(m.alpha*kprime.^(m.alpha-1) + (1.-m.delta));\n",
    " \n",
    "return"
   ]
  },
  {
   "cell_type": "code",
   "execution_count": 3,
   "metadata": {
    "scrolled": true
   },
   "outputs": [
    {
     "name": "stdout",
     "output_type": "stream",
     "text": [
      "Created file '/home/takeki/Documents/keizai-seminar/chapter4/Matlab/1_TI_Optimization/CRRA.m'.\n"
     ]
    }
   ],
   "source": [
    "%%file CRRA.m\n",
    "function util = CRRA(cons,gamma)\n",
    "% Function CRRA\n",
    "%  utility = CRRA( consumption, gamma )\n",
    "%\n",
    "% Purpose:\n",
    "%  Compute CRRA utility function\n",
    "%\n",
    "%  Record of revisions:\n",
    "%     Date     Programmer  Description of change\n",
    "%  ==========  ==========  =====================\n",
    "%  10/05/2002  T. Yamada   Original code\n",
    "\n",
    "if gamma ~= 1;\n",
    "    util = cons.^(1-gamma)./(1-gamma);\n",
    "else\n",
    "    util = log(cons);\n",
    "end\n",
    "\n",
    "return"
   ]
  },
  {
   "cell_type": "code",
   "execution_count": 4,
   "metadata": {},
   "outputs": [
    {
     "name": "stdout",
     "output_type": "stream",
     "text": [
      "Created file '/home/takeki/Documents/keizai-seminar/chapter4/Matlab/1_TI_Optimization/mu_CRRA.m'.\n"
     ]
    }
   ],
   "source": [
    "%%file mu_CRRA.m\n",
    "function mu = mu_CRRA( cons, gamma )\n",
    "% Function mu_CRRA\n",
    "%  marginal_utility = mu_CRRA( consumption, gamma )\n",
    "%\n",
    "% Purpose:\n",
    "%  Compute marginal utility of CRRA-type function\n",
    "%\n",
    "%  Record of revisions:\n",
    "%     Date     Programmer  Description of change\n",
    "%  ==========  ==========  =====================\n",
    "%  02/22/2016  T. Yamada   Original code\n",
    "\n",
    "mu = cons.^-gamma;\n",
    "\n",
    "return"
   ]
  },
  {
   "cell_type": "code",
   "execution_count": 5,
   "metadata": {},
   "outputs": [
    {
     "name": "stdout",
     "output_type": "stream",
     "text": [
      "Created file '/home/takeki/Documents/keizai-seminar/chapter4/Matlab/1_TI_Optimization/nti.m'.\n"
     ]
    }
   ],
   "source": [
    "%%file nti.m\n",
    "function [cfcn0 dif] = nti(m)\n",
    "\n",
    "options = optimoptions('fsolve','Display','none'); % fsolveのオプション(最適化の結果を非表示にする)\n",
    "\n",
    "% *** 収束の基準 ***\n",
    "it = 1;          % ループ・カウンター\n",
    "dif2 = 1.0;      % 政策関数の繰り返し誤差\n",
    "%options.TolFun = 1.0e-10; % fsolveのオプション(最適化の許容誤差)\n",
    "\n",
    "disp(' ')\n",
    "disp('-+- Solve a neoclassical growth model with time iteration -+-');\n",
    "disp(' ')\n",
    "\n",
    "%% STEP 1(b): 政策関数の初期値を当て推量\n",
    "% 解析解 (for k'=g(k))\n",
    "p_true = m.beta*m.alpha*(m.kgrid.^m.alpha);\n",
    "\n",
    "% 政策関数の初期化\n",
    "%cfcn0 = m.kgrid;\n",
    "cfcn0 = m.css/m.kss*m.kgrid; % m.nk=21のときは政策関数の形がおかしい???\n",
    "%cfcn0 = m.kgrid.^m.alpha - p_true;\n",
    "%cfcn0 = m.css*ones(nk,1);\n",
    "cfcn1 = zeros(m.nk,1);\n",
    "\n",
    "% 繰り返し誤差を保存する変数を設定 \n",
    "dif = zeros(2,m.maxiter);\n",
    "\n",
    "%% STEP 4: 政策関数を繰り返し計算\n",
    "while (it < m.maxiter && dif2 > m.tol)\n",
    "\n",
    "    fprintf('iteration index: %i \\n', it);\n",
    "    fprintf('policy function iteration error: %e\\n', dif2);\n",
    "\n",
    "    for i = 1:m.nk\n",
    "\n",
    "        capital = m.kgrid(i);\n",
    "        wealth = capital.^m.alpha + (1.-m.delta).*capital;\n",
    "\n",
    "        % MATLABの最適化関数(fsolve)を使って各グリッド上の政策関数の値を探す\n",
    "        % 最適化の初期値は古い政策関数の値\n",
    "        cons = fsolve(@EulerEq,cfcn0(i,1),options,m,capital,cfcn0);\n",
    "        % 最適化の初期値は定常状態の値: これでは解けない\n",
    "        % cons = fsolve(@EulerEq2,css,options,m,capital,cfcn0);\n",
    "        cfcn1(i,1) = cons;\n",
    "        kprime = wealth-cons;\n",
    "        % グリッドごとに最適化の結果を確認\n",
    "        %disp([cons capital wealth kprime]);\n",
    "        %pause\n",
    "\n",
    "    end\n",
    "\n",
    "    % 繰り返し計算誤差を確認\n",
    "    dif2 = max(abs(cfcn1-cfcn0));\n",
    "\n",
    "    % 収束途中の繰り返し計算誤差を保存\n",
    "    dif(2,it) = dif2;\n",
    "\n",
    "    % 政策関数をアップデート\n",
    "    cfcn0 = cfcn1;\n",
    "\n",
    "    it = it + 1;\n",
    "\n",
    "end"
   ]
  },
  {
   "cell_type": "code",
   "execution_count": 6,
   "metadata": {
    "scrolled": true
   },
   "outputs": [
    {
     "name": "stdout",
     "output_type": "stream",
     "text": [
      "\n",
      "m = \n",
      "\n",
      "  struct with fields:\n",
      "\n",
      "       beta: 0.9600\n",
      "      gamma: 1\n",
      "      alpha: 0.4000\n",
      "      delta: 1\n",
      "       ykss: 2.6042\n",
      "        kss: 0.2029\n",
      "        yss: 0.5283\n",
      "        css: 0.3254\n",
      "       kmax: 0.5000\n",
      "       kmin: 0.0500\n",
      "         nk: 21\n",
      "      kgrid: [21x1 double]\n",
      "    maxiter: 1000\n",
      "        tol: 1.0000e-05\n",
      "\n"
     ]
    }
   ],
   "source": [
    "% カリブレーション\n",
    "m.beta  = 0.96; % 割引因子\n",
    "m.gamma = 1.0;  % 相対的危険回避度(異時点間の代替の弾力性の逆数)\n",
    "m.alpha = 0.40; % 資本分配率\n",
    "m.delta = 1.00; % 固定資本減耗(delta=1.0のときは解析解が存在)\n",
    "\n",
    "% 定常状態の値\n",
    "m.ykss = (1/m.beta-1+m.delta)/m.alpha;\n",
    "m.kss = m.ykss^(1/(m.alpha-1));\n",
    "m.yss = m.ykss*m.kss;\n",
    "m.css = m.yss-m.delta*m.kss;\n",
    "\n",
    "m.kmax = 0.5;   % 資本グリッドの最大値\n",
    "m.kmin = 0.05;  % 資本グリッドの最小値 (0にすると生産が出来なくなる)\n",
    "\n",
    "%% STEP 1(a): グリッド生成\n",
    "m.nk   = 21;    % グリッドの数\n",
    "m.kgrid = linspace(m.kmin, m.kmax, m.nk)';\n",
    "\n",
    "m.maxiter = 1000; % 繰り返し計算の最大値\n",
    "m.tol  = 1.0e-5;  % 許容誤差(STEP 2)\n",
    "\n",
    "m"
   ]
  },
  {
   "cell_type": "code",
   "execution_count": 7,
   "metadata": {},
   "outputs": [
    {
     "name": "stdout",
     "output_type": "stream",
     "text": [
      " \n",
      "-+- Solve a neoclassical growth model with time iteration -+-\n",
      " \n",
      "iteration index: 1 \n",
      "policy function iteration error: 1.000000e+00\n",
      "iteration index: 2 \n",
      "policy function iteration error: 1.114976e+02\n",
      "iteration index: 3 \n",
      "policy function iteration error: 2.236083e-02\n",
      "iteration index: 4 \n",
      "policy function iteration error: 6.095583e-03\n",
      "iteration index: 5 \n",
      "policy function iteration error: 6.390082e-04\n",
      "iteration index: 6 \n",
      "policy function iteration error: 8.800983e-05\n",
      "iteration index: 7 \n",
      "policy function iteration error: 1.073202e-05\n",
      " \n",
      "Elapsed time is 1.310982 seconds.\n"
     ]
    }
   ],
   "source": [
    "% time iteration\n",
    "tic;\n",
    "[cfcn0 dif] = nti(m);\n",
    "disp(' ');\n",
    "toc;"
   ]
  },
  {
   "cell_type": "code",
   "execution_count": 8,
   "metadata": {},
   "outputs": [],
   "source": [
    "%% 最終的な政策関数が得られてから貯蓄関数を計算\n",
    "pfcn0 = m.kgrid.^m.alpha + (1-m.delta)*m.kgrid - cfcn0;"
   ]
  },
  {
   "cell_type": "code",
   "execution_count": 9,
   "metadata": {},
   "outputs": [],
   "source": [
    "%% 解析的解\n",
    "p_true = m.beta*m.alpha*(m.kgrid.^m.alpha);"
   ]
  },
  {
   "cell_type": "code",
   "execution_count": 10,
   "metadata": {},
   "outputs": [],
   "source": [
    "%% オイラー方程式から誤差を測定\n",
    "% 元のグリッドではオイラー方程式の誤差はゼロになるため、グリッドを細かくとる\n",
    "kgrid_err = linspace(m.kmin, m.kmax, (m.nk-1)*10+1)';\n",
    "cons = interp1(m.kgrid,cfcn0(:,1),kgrid_err); % 線形補間\n",
    "LHS  = mu_CRRA(cons, m.gamma);\n",
    "\n",
    "kp   = kgrid_err.^m.alpha + (1-m.delta)*kgrid_err - cons;\n",
    "cnext = interp1(m.kgrid, cfcn0(:,1), kp);\n",
    "rent = m.alpha.*kp.^(m.alpha-1.0) - m.delta;\n",
    "RHS  = m.beta.*(1.+rent).*mu_CRRA(cnext,m.gamma);\n",
    "\n",
    "err  = RHS./LHS-1.0;"
   ]
  },
  {
   "cell_type": "markdown",
   "metadata": {},
   "source": [
    "# plot the results"
   ]
  },
  {
   "cell_type": "code",
   "execution_count": 11,
   "metadata": {},
   "outputs": [
    {
     "data": {
      "image/png": "[encoded data removed]",
      "text/plain": [
       "<IPython.core.display.Image object>"
      ]
     },
     "metadata": {},
     "output_type": "display_data"
    }
   ],
   "source": [
    "figure;\n",
    "plot(m.kgrid, pfcn0, '-', 'color', 'blue', 'linewidth', 3); hold('on');\n",
    "plot(m.kgrid, p_true, '--', 'color', 'red', 'linewidth', 3);\n",
    "plot(m.kgrid, m.kgrid, ':', 'color', 'black', 'linewidth', 2); hold('off');\n",
    "xlabel('今期の資本保有量：k', 'Fontsize', 16);\n",
    "ylabel(\"次期の資本保有量：k'\", 'Fontsize', 16);\n",
    "xlim([0, m.kmax]);\n",
    "legend('近似解', '解析的解', '45度線', 'Location', 'NorthWest');\n",
    "grid on;\n",
    "set(gca,'Fontsize', 16);"
   ]
  },
  {
   "cell_type": "code",
   "execution_count": null,
   "metadata": {},
   "outputs": [],
   "source": [
    "figure;\n",
    "plot(m.kgrid, cfcn0(:,1), '-', 'color', 'blue', 'linewidth', 3);\n",
    "xlabel('資本保有量：k', 'Fontsize', 16);\n",
    "ylabel('消費：c', 'Fontsize', 16);\n",
    "grid on;\n",
    "set(gca,'Fontsize', 16);"
   ]
  },
  {
   "cell_type": "code",
   "execution_count": null,
   "metadata": {},
   "outputs": [],
   "source": [
    "figure;\n",
    "% plot(iter, dif(1,:), '-', 'color', 'blue', 'linewidth', 2); hold('on');\n",
    "plot([1:50], dif(2,1:50), ':', 'color', 'red', 'linewidth', 2); hold('off');\n",
    "xlabel('計算回数', 'Fontsize', 16);\n",
    "ylabel('繰り返し計算誤差', 'Fontsize', 16);\n",
    "ylim([0,0.1]);\n",
    "grid on;\n",
    "set(gca,'Fontsize', 16);"
   ]
  },
  {
   "cell_type": "code",
   "execution_count": null,
   "metadata": {},
   "outputs": [],
   "source": [
    "err2 = csvread(\"err_ndp.csv\");\n",
    "figure;\n",
    "plot(kgrid_err, abs(err), '-', 'color', 'blue', 'linewidth', 3); hold('on');\n",
    "plot(kgrid_err, abs(err2), '--', 'color', 'red', 'linewidth', 3); hold('off');\n",
    "xlabel('資本保有量：k', 'Fontsize', 16);\n",
    "ylabel('オイラー方程式誤差(絶対値)', 'Fontsize', 16);\n",
    "legend('TI', 'VFI', 'Location', 'NorthEast');\n",
    "grid on;\n",
    "set(gca,'Fontsize', 16);"
   ]
  },
  {
   "cell_type": "code",
   "execution_count": null,
   "metadata": {},
   "outputs": [],
   "source": []
  }
 ],
 "metadata": {
  "@webio": {
   "lastCommId": null,
   "lastKernelId": null
  },
  "kernelspec": {
   "display_name": "Matlab",
   "language": "matlab",
   "name": "matlab"
  },
  "language_info": {
   "codemirror_mode": "octave",
   "file_extension": ".m",
   "help_links": [
    {
     "text": "MetaKernel Magics",
     "url": "https://github.com/calysto/metakernel/blob/master/metakernel/magics/README.md"
    }
   ],
   "mimetype": "text/x-octave",
   "name": "matlab",
   "version": "0.16.2"
  }
 },
 "nbformat": 4,
 "nbformat_minor": 2
}
